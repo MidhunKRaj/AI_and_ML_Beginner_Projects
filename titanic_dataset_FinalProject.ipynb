{
  "nbformat": 4,
  "nbformat_minor": 0,
  "metadata": {
    "kernelspec": {
      "display_name": "Python 3",
      "language": "python",
      "name": "python3"
    },
    "language_info": {
      "codemirror_mode": {
        "name": "ipython",
        "version": 3
      },
      "file_extension": ".py",
      "mimetype": "text/x-python",
      "name": "python",
      "nbconvert_exporter": "python",
      "pygments_lexer": "ipython3",
      "version": "3.8.3"
    },
    "colab": {
      "name": "titanic_dataset_FinalProject.ipynb",
      "provenance": []
    }
  },
  "cells": [
    {
      "cell_type": "markdown",
      "metadata": {
        "id": "kIc9rMsKhUTv"
      },
      "source": [
        "### AUTHOR : Midhun Kesavan Raj\n"
      ]
    },
    {
      "cell_type": "markdown",
      "metadata": {
        "id": "t2kwt831hUT0"
      },
      "source": [
        "----\n",
        "## **Overview**\n",
        "\n",
        "\n",
        "The dataset I am using here is about the RMS Titanic known as the unsinkable ship and was the largest, most luxurious passenger ship of its time. Sadly, the British ocean liner sank on April 15, 1912, killing over 1500 people while just 705 survived. \n",
        " The dataset includes information about the passengers who had travelled in the Titanic\n",
       
        " **PassengerId: ID of the passenger\n",
        "\n",
        " Survived: Survival (0 = No; 1 = Yes)\n",
        "\n",
        " Pclass: Passenger Class (1 = 1st; 2 = 2nd; 3 = 3rd)\n",
        "\n",
        " Name: Name of the passenger\n",
        "\n",
        " Sex: Sex of the passenger\n",
        "\n",
        " Age: age of primary policyholder\n",
        "\n",
        " SibSp: Number of siblings/spouses aboard\n",
        "\n",
        " Parch: Number of parents/children aboard\n",
        "\n",
        " Ticket: Ticknet number of the passenger\n",
        "\n",
        " Fare: Passenger fare (British pound)\n",
        "\n",
        " Cabin: The cabin passengers were provided to stay within the ship\n",
        " Embarked: Port of embarkation (C = Cherbourg; Q = Queenstown; S = Southampton)\n",
        " \n",
        "  ****\n",
        " \n",
        " The dataset is available in below link\n",
        " https://www.kaggle.com/prkukunoor/TitanicDataset\n",
        "\n",
        "Here, I am building a Logistic Regression and SVM (with different Kernels) models for classification purpose to meet our objectives."
      ]
    },
    {
      "cell_type": "markdown",
      "metadata": {
        "id": "YPTj49_6hUT1"
      },
      "source": [
        "-----\n",
        "## Objective:\n",
        " 1. To determine if there is a relationship between attributes and the survival rate.\n",
        " 2. Prove (or disprove) that the passengers who travelled in class 1 had a high survival rate than those who didn't?\n",
        "\n",
        "#### The key questions that we would be asking are:\n",
        " 1. What sorts of people were more likely to survive?” using passenger data (ie name, age, gender, socio-economic class, etc).¶\n",
        " 2. How valid is the model we have built?\n",
        " 3. What can we do to improve the model?"
      ]
    },
    {
      "cell_type": "markdown",
      "metadata": {
        "id": "LBuPxnOJhUT2"
      },
      "source": [
        "----\n",
        "## Importing the Libraries"
      ]
    },
    {
      "cell_type": "code",
      "metadata": {
        "id": "0tABolpfhUT3"
      },
      "source": [
        "import pandas as pd\n",
        "import matplotlib.pyplot as plt\n",
        "import seaborn as sns\n",
        "import numpy as np\n",
        "import scipy.stats as stats\n",
        "import warnings\n",
        "warnings.filterwarnings('ignore')"
      ],
      "execution_count": null,
      "outputs": []
    },
    {
      "cell_type": "markdown",
      "metadata": {
        "id": "miGSxWfwhUT4"
      },
      "source": [
        "## Load the data"
      ]
    },
    {
      "cell_type": "code",
      "metadata": {
        "colab": {
          "base_uri": "https://localhost:8080/",
          "height": 237
        },
        "id": "CNfzDXMxhUT5",
        "outputId": "1bf55660-eb98-4ddb-d87f-976099ca9ae3"
      },
      "source": [
        "df = pd.read_csv('/content/titanic_data.csv')\n",
        "df.head()"
      ],
      "execution_count": null,
      "outputs": [
        {
          "output_type": "execute_result",
          "data": {
            "text/html": [
              "<div>\n",
              "<style scoped>\n",
              "    .dataframe tbody tr th:only-of-type {\n",
              "        vertical-align: middle;\n",
              "    }\n",
              "\n",
              "    .dataframe tbody tr th {\n",
              "        vertical-align: top;\n",
              "    }\n",
              "\n",
              "    .dataframe thead th {\n",
              "        text-align: right;\n",
              "    }\n",
              "</style>\n",
              "<table border=\"1\" class=\"dataframe\">\n",
              "  <thead>\n",
              "    <tr style=\"text-align: right;\">\n",
              "      <th></th>\n",
              "      <th>PassengerId</th>\n",
              "      <th>Survived</th>\n",
              "      <th>Pclass</th>\n",
              "      <th>Name</th>\n",
              "      <th>Sex</th>\n",
              "      <th>Age</th>\n",
              "      <th>SibSp</th>\n",
              "      <th>Parch</th>\n",
              "      <th>Ticket</th>\n",
              "      <th>Fare</th>\n",
              "      <th>Cabin</th>\n",
              "      <th>Embarked</th>\n",
              "    </tr>\n",
              "  </thead>\n",
              "  <tbody>\n",
              "    <tr>\n",
              "      <th>0</th>\n",
              "      <td>1</td>\n",
              "      <td>0</td>\n",
              "      <td>3</td>\n",
              "      <td>Braund, Mr. Owen Harris</td>\n",
              "      <td>male</td>\n",
              "      <td>22.0</td>\n",
              "      <td>1</td>\n",
              "      <td>0</td>\n",
              "      <td>A/5 21171</td>\n",
              "      <td>7.2500</td>\n",
              "      <td>NaN</td>\n",
              "      <td>S</td>\n",
              "    </tr>\n",
              "    <tr>\n",
              "      <th>1</th>\n",
              "      <td>2</td>\n",
              "      <td>1</td>\n",
              "      <td>1</td>\n",
              "      <td>Cumings, Mrs. John Bradley (Florence Briggs Th...</td>\n",
              "      <td>female</td>\n",
              "      <td>38.0</td>\n",
              "      <td>1</td>\n",
              "      <td>0</td>\n",
              "      <td>PC 17599</td>\n",
              "      <td>71.2833</td>\n",
              "      <td>C85</td>\n",
              "      <td>C</td>\n",
              "    </tr>\n",
              "    <tr>\n",
              "      <th>2</th>\n",
              "      <td>3</td>\n",
              "      <td>1</td>\n",
              "      <td>3</td>\n",
              "      <td>Heikkinen, Miss. Laina</td>\n",
              "      <td>female</td>\n",
              "      <td>26.0</td>\n",
              "      <td>0</td>\n",
              "      <td>0</td>\n",
              "      <td>STON/O2. 3101282</td>\n",
              "      <td>7.9250</td>\n",
              "      <td>NaN</td>\n",
              "      <td>S</td>\n",
              "    </tr>\n",
              "    <tr>\n",
              "      <th>3</th>\n",
              "      <td>4</td>\n",
              "      <td>1</td>\n",
              "      <td>1</td>\n",
              "      <td>Futrelle, Mrs. Jacques Heath (Lily May Peel)</td>\n",
              "      <td>female</td>\n",
              "      <td>35.0</td>\n",
              "      <td>1</td>\n",
              "      <td>0</td>\n",
              "      <td>113803</td>\n",
              "      <td>53.1000</td>\n",
              "      <td>C123</td>\n",
              "      <td>S</td>\n",
              "    </tr>\n",
              "    <tr>\n",
              "      <th>4</th>\n",
              "      <td>5</td>\n",
              "      <td>0</td>\n",
              "      <td>3</td>\n",
              "      <td>Allen, Mr. William Henry</td>\n",
              "      <td>male</td>\n",
              "      <td>35.0</td>\n",
              "      <td>0</td>\n",
              "      <td>0</td>\n",
              "      <td>373450</td>\n",
              "      <td>8.0500</td>\n",
              "      <td>NaN</td>\n",
              "      <td>S</td>\n",
              "    </tr>\n",
              "  </tbody>\n",
              "</table>\n",
              "</div>"
            ],
            "text/plain": [
              "   PassengerId  Survived  Pclass  ...     Fare Cabin  Embarked\n",
              "0            1         0       3  ...   7.2500   NaN         S\n",
              "1            2         1       1  ...  71.2833   C85         C\n",
              "2            3         1       3  ...   7.9250   NaN         S\n",
              "3            4         1       1  ...  53.1000  C123         S\n",
              "4            5         0       3  ...   8.0500   NaN         S\n",
              "\n",
              "[5 rows x 12 columns]"
            ]
          },
          "metadata": {},
          "execution_count": 14
        }
      ]
    },
    {
      "cell_type": "code",
      "metadata": {
        "id": "SQvCIC4DhUT6",
        "colab": {
          "base_uri": "https://localhost:8080/"
        },
        "outputId": "19318046-e5cc-4f55-8315-6788df7c84ee"
      },
      "source": [
        "#shape of the data\n",
        "df.shape"
      ],
      "execution_count": null,
      "outputs": [
        {
          "output_type": "execute_result",
          "data": {
            "text/plain": [
              "(891, 12)"
            ]
          },
          "metadata": {},
          "execution_count": 15
        }
      ]
    },
    {
      "cell_type": "markdown",
      "metadata": {
        "id": "Q6opxlpjhUT7"
      },
      "source": [
        "###### Titanic dataset consists of 891 rows and 12 columns."
      ]
    },
    {
      "cell_type": "code",
      "metadata": {
        "scrolled": true,
        "id": "PqT5lc8xhUT8",
        "colab": {
          "base_uri": "https://localhost:8080/"
        },
        "outputId": "637757e4-384e-4ec8-fea2-aba368e99e1a"
      },
      "source": [
        "# basic information of the dataset\n",
        "df.info()"
      ],
      "execution_count": null,
      "outputs": [
        {
          "output_type": "stream",
          "name": "stdout",
          "text": [
            "<class 'pandas.core.frame.DataFrame'>\n",
            "RangeIndex: 891 entries, 0 to 890\n",
            "Data columns (total 12 columns):\n",
            " #   Column       Non-Null Count  Dtype  \n",
            "---  ------       --------------  -----  \n",
            " 0   PassengerId  891 non-null    int64  \n",
            " 1   Survived     891 non-null    int64  \n",
            " 2   Pclass       891 non-null    int64  \n",
            " 3   Name         891 non-null    object \n",
            " 4   Sex          891 non-null    object \n",
            " 5   Age          714 non-null    float64\n",
            " 6   SibSp        891 non-null    int64  \n",
            " 7   Parch        891 non-null    int64  \n",
            " 8   Ticket       891 non-null    object \n",
            " 9   Fare         891 non-null    float64\n",
            " 10  Cabin        204 non-null    object \n",
            " 11  Embarked     889 non-null    object \n",
            "dtypes: float64(2), int64(5), object(5)\n",
            "memory usage: 83.7+ KB\n"
          ]
        }
      ]
    },
    {
      "cell_type": "markdown",
      "metadata": {
        "id": "0heaoBFphUT9"
      },
      "source": [
        "###### The dataset consists of 12 columns where the second column 'Survived' is our dependent variable.\n",
        "###### Different types of variable in the dataset are:\n",
        "###### Categorical varibles - Name, Sex, Ticket, Cabin, and Embarked\n",
        "###### Quantitative variables -PassengerId, Pclass, Age, SibSp, Parch, Fare and Survived. Among these quantitative variables, Age and Fare are continuous variables."
      ]
    },
    {
      "cell_type": "markdown",
      "metadata": {
        "id": "OXK0nEhuhUT-"
      },
      "source": [
        "## Descriptive Statistics"
      ]
    },
    {
      "cell_type": "code",
      "metadata": {
        "id": "zPqENPBwhUT-",
        "colab": {
          "base_uri": "https://localhost:8080/",
          "height": 295
        },
        "outputId": "12028481-0829-446c-8930-04c4a21e3159"
      },
      "source": [
        "df.describe()"
      ],
      "execution_count": null,
      "outputs": [
        {
          "output_type": "execute_result",
          "data": {
            "text/html": [
              "<div>\n",
              "<style scoped>\n",
              "    .dataframe tbody tr th:only-of-type {\n",
              "        vertical-align: middle;\n",
              "    }\n",
              "\n",
              "    .dataframe tbody tr th {\n",
              "        vertical-align: top;\n",
              "    }\n",
              "\n",
              "    .dataframe thead th {\n",
              "        text-align: right;\n",
              "    }\n",
              "</style>\n",
              "<table border=\"1\" class=\"dataframe\">\n",
              "  <thead>\n",
              "    <tr style=\"text-align: right;\">\n",
              "      <th></th>\n",
              "      <th>PassengerId</th>\n",
              "      <th>Survived</th>\n",
              "      <th>Pclass</th>\n",
              "      <th>Age</th>\n",
              "      <th>SibSp</th>\n",
              "      <th>Parch</th>\n",
              "      <th>Fare</th>\n",
              "    </tr>\n",
              "  </thead>\n",
              "  <tbody>\n",
              "    <tr>\n",
              "      <th>count</th>\n",
              "      <td>891.000000</td>\n",
              "      <td>891.000000</td>\n",
              "      <td>891.000000</td>\n",
              "      <td>714.000000</td>\n",
              "      <td>891.000000</td>\n",
              "      <td>891.000000</td>\n",
              "      <td>891.000000</td>\n",
              "    </tr>\n",
              "    <tr>\n",
              "      <th>mean</th>\n",
              "      <td>446.000000</td>\n",
              "      <td>0.383838</td>\n",
              "      <td>2.308642</td>\n",
              "      <td>29.699118</td>\n",
              "      <td>0.523008</td>\n",
              "      <td>0.381594</td>\n",
              "      <td>32.204208</td>\n",
              "    </tr>\n",
              "    <tr>\n",
              "      <th>std</th>\n",
              "      <td>257.353842</td>\n",
              "      <td>0.486592</td>\n",
              "      <td>0.836071</td>\n",
              "      <td>14.526497</td>\n",
              "      <td>1.102743</td>\n",
              "      <td>0.806057</td>\n",
              "      <td>49.693429</td>\n",
              "    </tr>\n",
              "    <tr>\n",
              "      <th>min</th>\n",
              "      <td>1.000000</td>\n",
              "      <td>0.000000</td>\n",
              "      <td>1.000000</td>\n",
              "      <td>0.420000</td>\n",
              "      <td>0.000000</td>\n",
              "      <td>0.000000</td>\n",
              "      <td>0.000000</td>\n",
              "    </tr>\n",
              "    <tr>\n",
              "      <th>25%</th>\n",
              "      <td>223.500000</td>\n",
              "      <td>0.000000</td>\n",
              "      <td>2.000000</td>\n",
              "      <td>20.125000</td>\n",
              "      <td>0.000000</td>\n",
              "      <td>0.000000</td>\n",
              "      <td>7.910400</td>\n",
              "    </tr>\n",
              "    <tr>\n",
              "      <th>50%</th>\n",
              "      <td>446.000000</td>\n",
              "      <td>0.000000</td>\n",
              "      <td>3.000000</td>\n",
              "      <td>28.000000</td>\n",
              "      <td>0.000000</td>\n",
              "      <td>0.000000</td>\n",
              "      <td>14.454200</td>\n",
              "    </tr>\n",
              "    <tr>\n",
              "      <th>75%</th>\n",
              "      <td>668.500000</td>\n",
              "      <td>1.000000</td>\n",
              "      <td>3.000000</td>\n",
              "      <td>38.000000</td>\n",
              "      <td>1.000000</td>\n",
              "      <td>0.000000</td>\n",
              "      <td>31.000000</td>\n",
              "    </tr>\n",
              "    <tr>\n",
              "      <th>max</th>\n",
              "      <td>891.000000</td>\n",
              "      <td>1.000000</td>\n",
              "      <td>3.000000</td>\n",
              "      <td>80.000000</td>\n",
              "      <td>8.000000</td>\n",
              "      <td>6.000000</td>\n",
              "      <td>512.329200</td>\n",
              "    </tr>\n",
              "  </tbody>\n",
              "</table>\n",
              "</div>"
            ],
            "text/plain": [
              "       PassengerId    Survived      Pclass  ...       SibSp       Parch        Fare\n",
              "count   891.000000  891.000000  891.000000  ...  891.000000  891.000000  891.000000\n",
              "mean    446.000000    0.383838    2.308642  ...    0.523008    0.381594   32.204208\n",
              "std     257.353842    0.486592    0.836071  ...    1.102743    0.806057   49.693429\n",
              "min       1.000000    0.000000    1.000000  ...    0.000000    0.000000    0.000000\n",
              "25%     223.500000    0.000000    2.000000  ...    0.000000    0.000000    7.910400\n",
              "50%     446.000000    0.000000    3.000000  ...    0.000000    0.000000   14.454200\n",
              "75%     668.500000    1.000000    3.000000  ...    1.000000    0.000000   31.000000\n",
              "max     891.000000    1.000000    3.000000  ...    8.000000    6.000000  512.329200\n",
              "\n",
              "[8 rows x 7 columns]"
            ]
          },
          "metadata": {},
          "execution_count": 17
        }
      ]
    },
    {
      "cell_type": "markdown",
      "metadata": {
        "id": "tRtXvD3AhUT_"
      },
      "source": [
        "###### df.describe() provides the descriptive statistics of all the numerical values of the dataset.\n",
        "###### Above we can see that 38% out of the training-set survived the Titanic. \n",
        "###### We can also see that the passenger ages range from 0.4 to 80. \n",
        "###### On top of that we can already detect some features, that contain missing values, like the ‘Age’ feature."
      ]
    },
    {
      "cell_type": "markdown",
      "metadata": {
        "id": "YO_8jp80hUT_"
      },
      "source": [
        "## Data Cleaning"
      ]
    },
    {
      "cell_type": "code",
      "metadata": {
        "id": "5wn0uiXBhUUA",
        "colab": {
          "base_uri": "https://localhost:8080/"
        },
        "outputId": "f195dd3d-bbe7-4615-bc8b-a42b7c4b4644"
      },
      "source": [
        "df.isnull().sum()"
      ],
      "execution_count": null,
      "outputs": [
        {
          "output_type": "execute_result",
          "data": {
            "text/plain": [
              "PassengerId      0\n",
              "Survived         0\n",
              "Pclass           0\n",
              "Name             0\n",
              "Sex              0\n",
              "Age            177\n",
              "SibSp            0\n",
              "Parch            0\n",
              "Ticket           0\n",
              "Fare             0\n",
              "Cabin          687\n",
              "Embarked         2\n",
              "dtype: int64"
            ]
          },
          "metadata": {},
          "execution_count": 18
        }
      ]
    },
    {
      "cell_type": "markdown",
      "metadata": {
        "id": "8cUMR7D8hUUA"
      },
      "source": [
        "###### We see that \"Age\" and \"Cabin\" has a lot of missing values. We can replace the null values in the 'Age' column with its median."
      ]
    },
    {
      "cell_type": "code",
      "metadata": {
        "id": "zy5SqHvnhUUB"
      },
      "source": [
        "# Replacing the null values in the 'Age' with its median value\n",
        "df.Age.fillna(df.Age.median(),inplace=True)"
      ],
      "execution_count": null,
      "outputs": []
    },
    {
      "cell_type": "code",
      "metadata": {
        "id": "-5EO-GebhUUB",
        "colab": {
          "base_uri": "https://localhost:8080/"
        },
        "outputId": "e961040f-917f-4e00-819f-b3a6d38a3da4"
      },
      "source": [
        "df.isnull().sum()"
      ],
      "execution_count": null,
      "outputs": [
        {
          "output_type": "execute_result",
          "data": {
            "text/plain": [
              "PassengerId      0\n",
              "Survived         0\n",
              "Pclass           0\n",
              "Name             0\n",
              "Sex              0\n",
              "Age              0\n",
              "SibSp            0\n",
              "Parch            0\n",
              "Ticket           0\n",
              "Fare             0\n",
              "Cabin          687\n",
              "Embarked         2\n",
              "dtype: int64"
            ]
          },
          "metadata": {},
          "execution_count": 20
        }
      ]
    },
    {
      "cell_type": "code",
      "metadata": {
        "id": "jHNvSSRHhUUB"
      },
      "source": [
        "# Replacing the null values in the 'Cabin' with its mode value\n",
        "df.Cabin.fillna(df.Cabin.mode()[0],inplace=True)\n",
        "# Replacing the null values in the 'Embarked' with its mode value\n",
        "df.Embarked.fillna(df.Embarked.mode()[0],inplace=True)"
      ],
      "execution_count": null,
      "outputs": []
    },
    {
      "cell_type": "code",
      "metadata": {
        "id": "j7TtIyGohUUC",
        "colab": {
          "base_uri": "https://localhost:8080/"
        },
        "outputId": "ce9b9484-a833-4a32-c26c-e77098b11832"
      },
      "source": [
        "df.isnull().sum()"
      ],
      "execution_count": null,
      "outputs": [
        {
          "output_type": "execute_result",
          "data": {
            "text/plain": [
              "PassengerId    0\n",
              "Survived       0\n",
              "Pclass         0\n",
              "Name           0\n",
              "Sex            0\n",
              "Age            0\n",
              "SibSp          0\n",
              "Parch          0\n",
              "Ticket         0\n",
              "Fare           0\n",
              "Cabin          0\n",
              "Embarked       0\n",
              "dtype: int64"
            ]
          },
          "metadata": {},
          "execution_count": 22
        }
      ]
    },
    {
      "cell_type": "markdown",
      "metadata": {
        "id": "He6e1l-mhUUC"
      },
      "source": [
        "###### There are no null values in the dataset."
      ]
    },
    {
      "cell_type": "code",
      "metadata": {
        "id": "jGeamLnThUUD",
        "colab": {
          "base_uri": "https://localhost:8080/"
        },
        "outputId": "569367a9-123c-457c-a23b-6ff3adf6f9e4"
      },
      "source": [
        "#checking datatypes\n",
        "print(df.dtypes)"
      ],
      "execution_count": null,
      "outputs": [
        {
          "output_type": "stream",
          "name": "stdout",
          "text": [
            "PassengerId      int64\n",
            "Survived         int64\n",
            "Pclass           int64\n",
            "Name            object\n",
            "Sex             object\n",
            "Age            float64\n",
            "SibSp            int64\n",
            "Parch            int64\n",
            "Ticket          object\n",
            "Fare           float64\n",
            "Cabin           object\n",
            "Embarked        object\n",
            "dtype: object\n"
          ]
        }
      ]
    },
    {
      "cell_type": "markdown",
      "metadata": {
        "id": "1WFShYKShUUD"
      },
      "source": [
        "----\n",
        "## Exploratory Data Analysis"
      ]
    },
    {
      "cell_type": "markdown",
      "metadata": {
        "id": "nH5zFeuAhUUE"
      },
      "source": [
        "## Univariate Analysis (Central Tendency, Dispersion)"
      ]
    },
    {
      "cell_type": "code",
      "metadata": {
        "id": "bmYEmMKshUUE",
        "colab": {
          "base_uri": "https://localhost:8080/",
          "height": 517
        },
        "outputId": "eeaa5808-99b5-413d-e56e-149a5a6000db"
      },
      "source": [
        "plt.figure(figsize=(15,8))\n",
        "plt.style.use('ggplot')\n",
        "mean = df['Age'].mean()\n",
        "one_dev = df['Age'].std()\n",
        "\n",
        "sns.distplot(df['Age'], bins=10, kde=True)\n",
        "\n",
        "plt.axvline(mean, color='green', label='Mean')\n",
        "plt.axvline(mean-one_dev, color='blue', label='lower limit')\n",
        "plt.axvline(mean+one_dev, color='blue', label='upper limit')\n",
        "\n",
        "plt.legend()"
      ],
      "execution_count": null,
      "outputs": [
        {
          "output_type": "execute_result",
          "data": {
            "text/plain": [
              "<matplotlib.legend.Legend at 0x7f66de95fa50>"
            ]
          },
          "metadata": {},
          "execution_count": 86
        },
        {
          "output_type": "display_data",
          "data": {
            "image/png": "[encoded data removed]",
            "text/plain": [
              "<Figure size 1080x576 with 1 Axes>"
            ]
          },
          "metadata": {}
        }
      ]
    },
    {
      "cell_type": "markdown",
      "metadata": {
        "id": "PpoIYaoehUUE"
      },
      "source": [
        "###### The green vertical line tells that mean of the Age is around 30 and the two blue vertical lines are 1 standard deviation away from the mean."
      ]
    },
    {
      "cell_type": "code",
      "metadata": {
        "id": "ABeFXlVBhUUF",
        "colab": {
          "base_uri": "https://localhost:8080/",
          "height": 390
        },
        "outputId": "bfa8776a-5fee-4cc2-961b-2c9448ae4f83"
      },
      "source": [
        "# A combined graph for univariate analysis of continous variable to check spread, central tendency , dispersion and outliers  \n",
        "Name=df['Fare'].name.upper()\n",
        "fig,(ax_box,ax_dis)  =plt.subplots(2,1,gridspec_kw = {\"height_ratios\": (.25, .75)},figsize=(8, 5))\n",
        "mean=df['Fare'].mean()\n",
        "median=df['Fare'].median()\n",
        "mode=df['Fare'].mode().tolist()[0]\n",
        "fig.suptitle(\"SPREAD OF DATA FOR \"+ Name  , fontsize=18, fontweight='bold')\n",
        "sns.boxplot(x=df['Fare'],showmeans=True, orient='h',color=\"violet\",ax=ax_box)\n",
        "ax_box.set(xlabel='')\n",
        "sns.distplot(df['Fare'],kde=False,color='blue',ax=ax_dis)\n",
        "ax_dis.axvline(mean, color='r', linestyle='--',linewidth=2)\n",
        "ax_dis.axvline(median, color='g', linestyle='-',linewidth=2)\n",
        "ax_dis.axvline(mode, color='y', linestyle='-',linewidth=2)\n",
        "plt.legend({'Mean':mean,'Median':median,'Mode':mode})"
      ],
      "execution_count": null,
      "outputs": [
        {
          "output_type": "execute_result",
          "data": {
            "text/plain": [
              "<matplotlib.legend.Legend at 0x7f66de838850>"
            ]
          },
          "metadata": {},
          "execution_count": 87
        },
        {
          "output_type": "display_data",
          "data": {
            "image/png": "[encoded data removed]",
            "text/plain": [
              "<Figure size 576x360 with 2 Axes>"
            ]
          },
          "metadata": {}
        }
      ]
    },
    {
      "cell_type": "markdown",
      "metadata": {
        "id": "xrnfepcvhUUF"
      },
      "source": [
        "###### Fares distribution is unimodal and is skewed to right.The average fare of the ticket is around 30 and highest fare is 510. There are lot of outliers at upper end."
      ]
    },
    {
      "cell_type": "markdown",
      "metadata": {
        "id": "UjxxDwqchUUF"
      },
      "source": [
        "## Count plot"
      ]
    },
    {
      "cell_type": "code",
      "metadata": {
        "id": "HrtmQBDihUUF",
        "colab": {
          "base_uri": "https://localhost:8080/",
          "height": 299
        },
        "outputId": "cba18ed3-e03a-439c-d2de-66905610edf5"
      },
      "source": [
        "sns.countplot(df['Survived'])"
      ],
      "execution_count": null,
      "outputs": [
        {
          "output_type": "execute_result",
          "data": {
            "text/plain": [
              "<matplotlib.axes._subplots.AxesSubplot at 0x7f66e2ac8510>"
            ]
          },
          "metadata": {},
          "execution_count": 26
        },
        {
          "output_type": "display_data",
          "data": {
            "image/png": "[encoded data removed]",
            "text/plain": [
              "<Figure size 432x288 with 1 Axes>"
            ]
          },
          "metadata": {}
        }
      ]
    },
    {
      "cell_type": "markdown",
      "metadata": {
        "id": "yid1xvnrhUUG"
      },
      "source": [
        "###### From the above plot, we can see that more than 50% of passengers who travelled in Titanic did not survive the disaster."
      ]
    },
    {
      "cell_type": "code",
      "metadata": {
        "id": "0SpminQehUUG",
        "colab": {
          "base_uri": "https://localhost:8080/",
          "height": 729
        },
        "outputId": "b74dbea3-4a11-4c68-9be4-d180ac4d42bc"
      },
      "source": [
        "cols = ['Sex', 'Pclass','SibSp','Parch']\n",
        "n_rows = 2\n",
        "n_cols = 2\n",
        "# The subplot grid and the figure size of each graph\n",
        "fig, axs = plt.subplots(n_rows, n_cols, figsize=(n_cols*5.5,n_rows*5))\n",
        "\n",
        "for r in range(0,n_rows):\n",
        "    for c in range(0,n_cols):  \n",
        "        \n",
        "        i = r*n_cols+ c #index to go through the number of columns       \n",
        "        ax = axs[r][c] #Show where to position each subplot\n",
        "        sns.countplot(df[cols[i]], hue=df[\"Survived\"], ax=ax)\n",
        "        ax.set_title(cols[i])\n",
        "        ax.legend(title=\"Survived\", loc='upper right') \n",
        "        \n",
        "plt.tight_layout() "
      ],
      "execution_count": null,
      "outputs": [
        {
          "output_type": "display_data",
          "data": {
            "image/png": "[encoded data removed]",
            "text/plain": [
              "<Figure size 792x720 with 4 Axes>"
            ]
          },
          "metadata": {}
        }
      ]
    },
    {
      "cell_type": "markdown",
      "metadata": {
        "id": "toFrDPKhhUUG"
      },
      "source": [
        "###### From the above plot, we can deduce that most of the passengers who did not survive the disaster had :\n",
        "###### a.) Belonged to the gender 'Male'\n",
        "###### b.) Travelled in pclass 3\n",
        "###### c.) No siblings or spouse\n",
        "###### d.) No parents or children"
      ]
    },
    {
      "cell_type": "code",
      "metadata": {
        "id": "OLNfhIj1hUUG",
        "colab": {
          "base_uri": "https://localhost:8080/",
          "height": 110
        },
        "outputId": "2966fdce-537c-498f-9815-258814186e88"
      },
      "source": [
        "#survival rate by sex\n",
        "y = df.groupby('Sex')[['Survived']].mean().reset_index()\n",
        "y"
      ],
      "execution_count": null,
      "outputs": [
        {
          "output_type": "execute_result",
          "data": {
            "text/html": [
              "<div>\n",
              "<style scoped>\n",
              "    .dataframe tbody tr th:only-of-type {\n",
              "        vertical-align: middle;\n",
              "    }\n",
              "\n",
              "    .dataframe tbody tr th {\n",
              "        vertical-align: top;\n",
              "    }\n",
              "\n",
              "    .dataframe thead th {\n",
              "        text-align: right;\n",
              "    }\n",
              "</style>\n",
              "<table border=\"1\" class=\"dataframe\">\n",
              "  <thead>\n",
              "    <tr style=\"text-align: right;\">\n",
              "      <th></th>\n",
              "      <th>Sex</th>\n",
              "      <th>Survived</th>\n",
              "    </tr>\n",
              "  </thead>\n",
              "  <tbody>\n",
              "    <tr>\n",
              "      <th>0</th>\n",
              "      <td>female</td>\n",
              "      <td>0.742038</td>\n",
              "    </tr>\n",
              "    <tr>\n",
              "      <th>1</th>\n",
              "      <td>male</td>\n",
              "      <td>0.188908</td>\n",
              "    </tr>\n",
              "  </tbody>\n",
              "</table>\n",
              "</div>"
            ],
            "text/plain": [
              "      Sex  Survived\n",
              "0  female  0.742038\n",
              "1    male  0.188908"
            ]
          },
          "metadata": {},
          "execution_count": 28
        }
      ]
    },
    {
      "cell_type": "markdown",
      "metadata": {
        "id": "_gaSiV0WhUUH"
      },
      "source": [
        "###### 74.2% of females in the dataset survived and only 18.89% of males survived. This indicates a very low survival chance for males."
      ]
    },
    {
      "cell_type": "code",
      "metadata": {
        "id": "JS2SfguEhUUH",
        "colab": {
          "base_uri": "https://localhost:8080/",
          "height": 142
        },
        "outputId": "42e5f075-e907-48ea-b2ae-caa4d42f2c12"
      },
      "source": [
        "#survival rate by sex and class\n",
        "df.pivot_table('Survived', index='Sex', columns='Pclass')"
      ],
      "execution_count": null,
      "outputs": [
        {
          "output_type": "execute_result",
          "data": {
            "text/html": [
              "<div>\n",
              "<style scoped>\n",
              "    .dataframe tbody tr th:only-of-type {\n",
              "        vertical-align: middle;\n",
              "    }\n",
              "\n",
              "    .dataframe tbody tr th {\n",
              "        vertical-align: top;\n",
              "    }\n",
              "\n",
              "    .dataframe thead th {\n",
              "        text-align: right;\n",
              "    }\n",
              "</style>\n",
              "<table border=\"1\" class=\"dataframe\">\n",
              "  <thead>\n",
              "    <tr style=\"text-align: right;\">\n",
              "      <th>Pclass</th>\n",
              "      <th>1</th>\n",
              "      <th>2</th>\n",
              "      <th>3</th>\n",
              "    </tr>\n",
              "    <tr>\n",
              "      <th>Sex</th>\n",
              "      <th></th>\n",
              "      <th></th>\n",
              "      <th></th>\n",
              "    </tr>\n",
              "  </thead>\n",
              "  <tbody>\n",
              "    <tr>\n",
              "      <th>female</th>\n",
              "      <td>0.968085</td>\n",
              "      <td>0.921053</td>\n",
              "      <td>0.500000</td>\n",
              "    </tr>\n",
              "    <tr>\n",
              "      <th>male</th>\n",
              "      <td>0.368852</td>\n",
              "      <td>0.157407</td>\n",
              "      <td>0.135447</td>\n",
              "    </tr>\n",
              "  </tbody>\n",
              "</table>\n",
              "</div>"
            ],
            "text/plain": [
              "Pclass         1         2         3\n",
              "Sex                                 \n",
              "female  0.968085  0.921053  0.500000\n",
              "male    0.368852  0.157407  0.135447"
            ]
          },
          "metadata": {},
          "execution_count": 29
        }
      ]
    },
    {
      "cell_type": "markdown",
      "metadata": {
        "id": "l4zgsSgGhUUI"
      },
      "source": [
        "###### From the pivot table, we see that females in first class had a high survival rate of about 96.8%, meaning the majority of them survived. Males in third class had the lowest survival rate at about 13.54%, meaning the majority of them did not survive."
      ]
    },
    {
      "cell_type": "markdown",
      "metadata": {
        "id": "MYHve38RhUUI"
      },
      "source": [
        "## Bar Plot"
      ]
    },
    {
      "cell_type": "code",
      "metadata": {
        "id": "ohNhcwVLhUUI",
        "colab": {
          "base_uri": "https://localhost:8080/",
          "height": 299
        },
        "outputId": "ca660dd9-6483-44ca-e305-ed3d9714855c"
      },
      "source": [
        "#Plot the survival rate of each class.\n",
        "sns.barplot(x='Pclass', y='Survived', data=df)"
      ],
      "execution_count": null,
      "outputs": [
        {
          "output_type": "execute_result",
          "data": {
            "text/plain": [
              "<matplotlib.axes._subplots.AxesSubplot at 0x7f66e22bf350>"
            ]
          },
          "metadata": {},
          "execution_count": 30
        },
        {
          "output_type": "display_data",
          "data": {
            "image/png": "[encoded data removed]",
            "text/plain": [
              "<Figure size 432x288 with 1 Axes>"
            ]
          },
          "metadata": {}
        }
      ]
    },
    {
      "cell_type": "markdown",
      "metadata": {
        "id": "mvF0kkP_hUUI"
      },
      "source": [
        "######  Passengers in the first class had  a high survival rate of around 62% whereas the third class had the lowest survival rate of 22%. This means that more than half of the passengers who travelled in first class survived the disaster."
      ]
    },
    {
      "cell_type": "markdown",
      "metadata": {
        "id": "vwFlj3u7hUUI"
      },
      "source": [
        "## Scatter plot"
      ]
    },
    {
      "cell_type": "code",
      "metadata": {
        "id": "1l2gpK9ThUUJ",
        "colab": {
          "base_uri": "https://localhost:8080/",
          "height": 299
        },
        "outputId": "775f3c70-244c-42c4-deee-752f148a8de4"
      },
      "source": [
        "#Plot the Prices Paid Of Each Class\n",
        "plt.scatter(df['Fare'], df['Pclass'],  color = 'red', label='Passenger Paid')\n",
        "plt.ylabel('Class', color='b')\n",
        "plt.xlabel('Price of the ticket', color='b')\n",
        "plt.title('Price Of Each Class')\n",
        "plt.legend()\n",
        "plt.show()"
      ],
      "execution_count": null,
      "outputs": [
        {
          "output_type": "display_data",
          "data": {
            "image/png": "[encoded data removed]",
            "text/plain": [
              "<Figure size 432x288 with 1 Axes>"
            ]
          },
          "metadata": {}
        }
      ]
    },
    {
      "cell_type": "markdown",
      "metadata": {
        "id": "kqESPlNahUUJ"
      },
      "source": [
        "###### From the above scatter plot, we see that the passengers who paid more than 100 pounds were allowed to travel in First class."
      ]
    },
    {
      "cell_type": "markdown",
      "metadata": {
        "id": "dezrPH5_hUUJ"
      },
      "source": [
        "## Box Plot"
      ]
    },
    {
      "cell_type": "code",
      "metadata": {
        "id": "bwx9_iCuhUUJ",
        "colab": {
          "base_uri": "https://localhost:8080/",
          "height": 290
        },
        "outputId": "d88bae17-7b59-454a-a26c-374835243e61"
      },
      "source": [
        "fig, axx = plt.subplots(1, 3, figsize=(20,5))\n",
        "axx[0].set_title('Age of Survivors')\n",
        "sns.boxplot(x='Survived', y='Age', data=df, ax=axx[0])\n",
        "axx[1].set_title('Survivors by Sex')\n",
        "sns.boxplot(x='Survived', y='Age', hue='Sex', data=df, ax=axx[1])\n",
        "axx[2].set_title('Survivors by Class')\n",
        "sns.boxplot(x='Survived', y='Age', hue='Pclass', data=df, ax=axx[2])\n",
        "plt.tight_layout()"
      ],
      "execution_count": null,
      "outputs": [
        {
          "output_type": "display_data",
          "data": {
            "image/png": "[encoded data removed]",
            "text/plain": [
              "<Figure size 1440x360 with 3 Axes>"
            ]
          },
          "metadata": {}
        }
      ]
    },
    {
      "cell_type": "markdown",
      "metadata": {
        "id": "Iu0CNpRWhUUK"
      },
      "source": [
        "###### We can deduce from the plot that those who survived were a little bit younger than those who died. Also, we can see that the passenegers in the first class were older than the rest and passengers in third class were younger. "
      ]
    },
    {
      "cell_type": "markdown",
      "metadata": {
        "id": "vESmNNcThUUL"
      },
      "source": [
        "## Density Plot\n"
      ]
    },
    {
      "cell_type": "code",
      "metadata": {
        "id": "DO8sUkTdhUUL",
        "colab": {
          "base_uri": "https://localhost:8080/",
          "height": 360
        },
        "outputId": "ed7625c2-4457-494f-8a50-638d12be250d"
      },
      "source": [
        "fig, axx = plt.subplots(1, 2, figsize=(16,5))\n",
        "axx[0].set_title('Distribution of Fare of Dead ones')\n",
        "sns.distplot(a=df[df['Survived']==0]['Fare'], ax=axx[0], bins=30)\n",
        "axx[1].set_title('Distribution of Fare of Survived ones')\n",
        "sns.distplot(a=df[df['Survived']==1]['Fare'], ax=axx[1], bins=30)\n",
        "plt.tight_layout()"
      ],
      "execution_count": null,
      "outputs": [
        {
          "output_type": "display_data",
          "data": {
            "image/png": "[encoded data removed]",
            "text/plain": [
              "<Figure size 1152x360 with 2 Axes>"
            ]
          },
          "metadata": {}
        }
      ]
    },
    {
      "cell_type": "markdown",
      "metadata": {
        "id": "Aick1Xt1hUUM"
      },
      "source": [
        "###### From the above plot, we can see that the fare of those who survived where higher."
      ]
    },
    {
      "cell_type": "markdown",
      "metadata": {
        "id": "g33z7Og8hUUM"
      },
      "source": [
        "## Statistical Analysis (Hypothesis Testing)"
      ]
    },
    {
      "cell_type": "markdown",
      "metadata": {
        "id": "yk_n-39KhUUN"
      },
      "source": [
        "## 1.Prove (or disprove) that the passengers who travelled in class 1 had a high survival rate than those who didn't?"
      ]
    },
    {
      "cell_type": "markdown",
      "metadata": {
        "id": "dPInXLSIhUUN"
      },
      "source": [
        "### Step 1: Define null and alternate hypothesis\n",
        "#### H0:μ1=μ2  The passengers who travelled in class 1 did not have a high survival rate than those travelled in class 3\n",
        "#### Ha:μ1!=μ2  The passengers who travelled in class 1 had a high survival rate than those travelled in class 3"
      ]
    },
    {
      "cell_type": "markdown",
      "metadata": {
        "id": "McZBU2IlhUUN"
      },
      "source": [
        "### Step 2: Decide the significance level. If P values is less, then alpha reject the null hypothesis.\n",
        "#### α = 0.05"
      ]
    },
    {
      "cell_type": "markdown",
      "metadata": {
        "id": "eCdwsjOUhUUO"
      },
      "source": [
        "### Step 3: Identify the test\n",
        "#### Since this is a two tail test, we first calculate the z score and then the p value from the z score."
      ]
    },
    {
      "cell_type": "markdown",
      "metadata": {
        "id": "xayre5uWhUUO"
      },
      "source": [
        "### Step 4: Calculate the z-score and p-value"
      ]
    },
    {
      "cell_type": "code",
      "metadata": {
        "id": "80AJ-rYHhUUO"
      },
      "source": [
        "First_Class_Sample = np.array([np.mean(df[df[\"Pclass\"]==1].sample(20)[\"Survived\"].values) for i in range(100)])\n",
        "third_Class_Sample = np.array([np.mean(df[df[\"Pclass\"]==3].sample(20)[\"Survived\"].values) for i in range(100)])"
      ],
      "execution_count": null,
      "outputs": []
    },
    {
      "cell_type": "markdown",
      "metadata": {
        "id": "3DiZXAUVhUUP"
      },
      "source": [
        "######  The central limit theorem says that each point in the sample should be a mean of a smaller sample. That’s why in the code above I’m taking 100 samples where each of these samples is the mean of 20 points (each point is just either 0 or 1 which refers to the survival and that’s why taking their mean should provide the survival rate)."
      ]
    },
    {
      "cell_type": "code",
      "metadata": {
        "id": "y3Hclx5ahUUP",
        "colab": {
          "base_uri": "https://localhost:8080/",
          "height": 354
        },
        "outputId": "059f54af-dd59-4afb-f338-ce88934b62a4"
      },
      "source": [
        "plt.subplots(1, 2, figsize = (10, 5))\n",
        "plt.subplot(1,2, 1)\n",
        "sns.distplot(First_Class_Sample)\n",
        "plt.title(\"First-Class Sample Distribution\")\n",
        "plt.xlabel(\"Survival Rate\")\n",
        "plt.ylabel(\"Frequency\")\n",
        "plt.subplot(1, 2, 2)\n",
        "sns.distplot(third_Class_Sample)\n",
        "plt.title(\"Third-Class Sample Distribution\")\n",
        "plt.xlabel(\"Survival Rate\")\n",
        "plt.ylabel(\"Frequency\")\n",
        "plt.show()"
      ],
      "execution_count": null,
      "outputs": [
        {
          "output_type": "display_data",
          "data": {
            "image/png": "[encoded data removed]",
            "text/plain": [
              "<Figure size 720x360 with 2 Axes>"
            ]
          },
          "metadata": {}
        }
      ]
    },
    {
      "cell_type": "markdown",
      "metadata": {
        "id": "YUfoCmS8hUUP"
      },
      "source": [
        "###### According to the central limit theorem, the two sample populations should be approximately normally distributed and the same can be confirmed from the above plot."
      ]
    },
    {
      "cell_type": "code",
      "metadata": {
        "id": "rW_dgrCDhUUP",
        "colab": {
          "base_uri": "https://localhost:8080/",
          "height": 282
        },
        "outputId": "5bd86cef-1faf-48fc-a672-6758cdb4cb86"
      },
      "source": [
        "x = [\"First-Class\", \"Third-Class\"]\n",
        "y = [np.mean(df[\"Survived\"][df[\"Pclass\"]==1]), np.mean(df[\"Survived\"][df[\"Pclass\"]==3])]\n",
        "plt.bar(x, y)\n",
        "plt.ylabel(\"Survival Rate\")\n",
        "plt.title(\"Survival Rate for people in the first and third classes\")\n",
        "plt.show()"
      ],
      "execution_count": null,
      "outputs": [
        {
          "output_type": "display_data",
          "data": {
            "image/png": "[encoded data removed]",
            "text/plain": [
              "<Figure size 432x288 with 1 Axes>"
            ]
          },
          "metadata": {}
        }
      ]
    },
    {
      "cell_type": "markdown",
      "metadata": {
        "id": "KamBDlsdhUUQ"
      },
      "source": [
        "###### From the above plot also, we can say that the passengers who travelled in passenger class 1 had high survival rate of around 65% than those who travelled in passenger class 3.\n",
        "###### However, this conclusion would be invalid (or let’s say rushed) for two reasons:\n",
        "###### Firstly, the data that we have is just a sample. We are not sure if that sample is random, independent, unbiased, or even representative of the entire population of the people who were on the titanic. We are using this sample data because it’s all we have.\n",
        "###### Secondly, this data has been collected by humans, so it is very prone to human error, bias, or randomness that happens in the data collection process."
      ]
    },
    {
      "cell_type": "markdown",
      "metadata": {
        "id": "lEkiYZ1JhUUQ"
      },
      "source": [
        "**Z-Test**"
      ]
    },
    {
      "cell_type": "code",
      "metadata": {
        "id": "IDprijibhUUQ",
        "colab": {
          "base_uri": "https://localhost:8080/"
        },
        "outputId": "8a6c5d85-7234-4ee9-a2be-0106d4eae305"
      },
      "source": [
        "# Calculating the z score\n",
        "effect = np.mean(First_Class_Sample) - np.mean(third_Class_Sample)\n",
        "sigma_first = np.std(First_Class_Sample)\n",
        "sigma_third = np.std(third_Class_Sample)\n",
        "sigma_difference = np.sqrt((sigma_first**2)/len(First_Class_Sample)  +  (sigma_third**2)/len(third_Class_Sample))\n",
        "z_score = effect / sigma_difference\n",
        "z_score"
      ],
      "execution_count": null,
      "outputs": [
        {
          "output_type": "execute_result",
          "data": {
            "text/plain": [
              "25.712209522407875"
            ]
          },
          "metadata": {},
          "execution_count": 37
        }
      ]
    },
    {
      "cell_type": "code",
      "metadata": {
        "id": "dWUiO2QnhUUQ",
        "colab": {
          "base_uri": "https://localhost:8080/"
        },
        "outputId": "01a6d317-975f-4928-a823-ca252982c285"
      },
      "source": [
        "# Calculating the p-value\n",
        "alpha=0.05\n",
        "\n",
        "p_value = stats.norm.sf(abs(z_score))*2\n",
        "print(\"Pvalue ={}\".format(p_value))"
      ],
      "execution_count": null,
      "outputs": [
        {
          "output_type": "stream",
          "name": "stdout",
          "text": [
            "Pvalue =8.536064688401915e-146\n"
          ]
        }
      ]
    },
    {
      "cell_type": "code",
      "metadata": {
        "id": "dMmt03zFhUUQ",
        "colab": {
          "base_uri": "https://localhost:8080/"
        },
        "outputId": "d19a0e6d-8129-4e1a-c118-f2e13865c007"
      },
      "source": [
        "if p_value < alpha :\n",
        "    print(\"Conclusion:\\nSince P value {} is less than alpha {}\". format (p_value,alpha) )\n",
        "    print(\"Reject Null Hypothesis that the passengers who travelled in class 1 did not have a high survival rate than those travelled in class 3\")\n",
        "    \n",
        "else:\n",
        "    print(\"Conclusion:Since P value {} is greater than alpha {}\". format (p_value,alpha))\n",
        "    print(\"Failed to Reject Null Hypothesis that that the passengers who travelled in class 1 did not have a high survival rate than those travelled in class 3\")"
      ],
      "execution_count": null,
      "outputs": [
        {
          "output_type": "stream",
          "name": "stdout",
          "text": [
            "Conclusion:\n",
            "Since P value 8.536064688401915e-146 is less than alpha 0.05\n",
            "Reject Null Hypothesis that the passengers who travelled in class 1 did not have a high survival rate than those travelled in class 3\n"
          ]
        }
      ]
    },
    {
      "cell_type": "markdown",
      "metadata": {
        "id": "cT_AoTzBhUUR"
      },
      "source": [
        "###### If we assume that the null hypothesis is true, then the probability of observing that effect by random is 2.73e-25% which is an extremely small probability that makes us comfortable in rejecting the Null hypothesis.\n",
        "###### Even though, we couldn't make any relation between these two features, we can just generally say that rich people who travelled in had a better chance of survival at the ship."
      ]
    },
    {
      "cell_type": "markdown",
      "metadata": {
        "id": "ttR4g7CbhUUR"
      },
      "source": [
        "## Data Preprocessing"
      ]
    },
    {
      "cell_type": "code",
      "metadata": {
        "id": "0MJPPmswhUUR",
        "colab": {
          "base_uri": "https://localhost:8080/"
        },
        "outputId": "df0e7a54-d58f-402f-a58e-b9689cb0e718"
      },
      "source": [
        "# Checking the unique values for 'Sex'\n",
        "df['Sex'].unique()"
      ],
      "execution_count": null,
      "outputs": [
        {
          "output_type": "execute_result",
          "data": {
            "text/plain": [
              "array(['male', 'female'], dtype=object)"
            ]
          },
          "metadata": {},
          "execution_count": 40
        }
      ]
    },
    {
      "cell_type": "code",
      "metadata": {
        "id": "yUiD8bidhUUR",
        "colab": {
          "base_uri": "https://localhost:8080/"
        },
        "outputId": "dc62edeb-e3e1-4f06-a319-7db11af4366f"
      },
      "source": [
        "df['Embarked'].unique()"
      ],
      "execution_count": null,
      "outputs": [
        {
          "output_type": "execute_result",
          "data": {
            "text/plain": [
              "array(['S', 'C', 'Q'], dtype=object)"
            ]
          },
          "metadata": {},
          "execution_count": 41
        }
      ]
    },
    {
      "cell_type": "markdown",
      "metadata": {
        "id": "3QHlMB9rhUUR"
      },
      "source": [
        "### Label Encoder"
      ]
    },
    {
      "cell_type": "code",
      "metadata": {
        "id": "8y1RPSn-hUUS"
      },
      "source": [
        "from sklearn.preprocessing import LabelEncoder\n",
        "le = LabelEncoder()"
      ],
      "execution_count": null,
      "outputs": []
    },
    {
      "cell_type": "code",
      "metadata": {
        "id": "QsYDbrwJhUUS"
      },
      "source": [
        "df['Sex']= le.fit_transform(df['Sex'])\n",
        "df['Sex']= le.fit_transform(df['Sex'])\n",
        "df['Embarked']= le.fit_transform(df['Embarked'])"
      ],
      "execution_count": null,
      "outputs": []
    },
    {
      "cell_type": "markdown",
      "metadata": {
        "id": "UtSuaDRRhUUS"
      },
      "source": [
        "###### The categorical data in columns 'Sex' and 'Embarked' has been converted to numerical data using Label encoder."
      ]
    },
    {
      "cell_type": "code",
      "metadata": {
        "id": "6lAoVc-EhUUS",
        "colab": {
          "base_uri": "https://localhost:8080/"
        },
        "outputId": "244b3dce-484e-4fc4-c8cb-6e846c310839"
      },
      "source": [
        "print(\"The unique values of column 'Sex' are: \",df['Sex'].unique())\n",
        "print(\"The unique values of column 'Embarked' are: \",df['Embarked'].unique())"
      ],
      "execution_count": null,
      "outputs": [
        {
          "output_type": "stream",
          "name": "stdout",
          "text": [
            "The unique values of column 'Sex' are:  [1 0]\n",
            "The unique values of column 'Embarked' are:  [2 0 1]\n"
          ]
        }
      ]
    },
    {
      "cell_type": "markdown",
      "metadata": {
        "id": "zEJQp3JjhUUS"
      },
      "source": [
        "-----\n",
        "## Preparing the data for training the model"
      ]
    },
    {
      "cell_type": "code",
      "metadata": {
        "id": "GPT_81LphUUS",
        "colab": {
          "base_uri": "https://localhost:8080/"
        },
        "outputId": "a72d3de8-1fd9-462c-d295-2a1b7fd9e5ae"
      },
      "source": [
        "X = df.drop(['Survived','PassengerId','Name','Ticket','Cabin'],axis=1)\n",
        "Y = df['Survived']\n",
        "Y"
      ],
      "execution_count": null,
      "outputs": [
        {
          "output_type": "execute_result",
          "data": {
            "text/plain": [
              "0      0\n",
              "1      1\n",
              "2      1\n",
              "3      1\n",
              "4      0\n",
              "      ..\n",
              "886    0\n",
              "887    1\n",
              "888    0\n",
              "889    1\n",
              "890    0\n",
              "Name: Survived, Length: 891, dtype: int64"
            ]
          },
          "metadata": {},
          "execution_count": 45
        }
      ]
    },
    {
      "cell_type": "markdown",
      "metadata": {
        "id": "sKwcWmdfhUUT"
      },
      "source": [
        "### Splitting the data into Training set and Testing set"
      ]
    },
    {
      "cell_type": "code",
      "metadata": {
        "id": "KjUnVbG_hUUT",
        "colab": {
          "base_uri": "https://localhost:8080/"
        },
        "outputId": "c3339256-6d4f-4200-ef4c-f459d7bacdea"
      },
      "source": [
        "from sklearn.model_selection import train_test_split\n",
        "x_train,x_test,y_train,y_test = train_test_split(X,Y, test_size = 0.2)\n",
        "print(\"Shape of x_train is: \",x_train.shape)\n",
        "print(\"Shape of x_test is: \",x_test.shape)\n",
        "print(\"Shape of y_train is: \",y_train.shape)\n",
        "print(\"Shape of y_test is: \",y_test.shape)"
      ],
      "execution_count": null,
      "outputs": [
        {
          "output_type": "stream",
          "name": "stdout",
          "text": [
            "Shape of x_train is:  (712, 7)\n",
            "Shape of x_test is:  (179, 7)\n",
            "Shape of y_train is:  (712,)\n",
            "Shape of y_test is:  (179,)\n"
          ]
        }
      ]
    },
    {
      "cell_type": "markdown",
      "metadata": {
        "id": "6qF7TeluhUUT"
      },
      "source": [
        "## Scaling the data"
      ]
    },
    {
      "cell_type": "code",
      "metadata": {
        "id": "c_Jlwu2NhUUT"
      },
      "source": [
        "from sklearn.preprocessing import RobustScaler\n",
        "scaler = RobustScaler()\n",
        "\n",
        "x_train = scaler.fit_transform(x_train)\n",
        "x_test = scaler.transform(x_test)"
      ],
      "execution_count": null,
      "outputs": []
    },
    {
      "cell_type": "markdown",
      "metadata": {
        "id": "O8Q_ofHChUUT"
      },
      "source": [
        "## Building Logistic regression model"
      ]
    },
    {
      "cell_type": "code",
      "metadata": {
        "id": "m49teSVehUUU",
        "colab": {
          "base_uri": "https://localhost:8080/"
        },
        "outputId": "3c7b80de-b1f8-49c4-bcb7-cdbb589cd508"
      },
      "source": [
        "from sklearn.linear_model import LogisticRegression\n",
        "log_model = LogisticRegression()\n",
        "log_model.fit(x_train,y_train)"
      ],
      "execution_count": null,
      "outputs": [
        {
          "output_type": "execute_result",
          "data": {
            "text/plain": [
              "LogisticRegression(C=1.0, class_weight=None, dual=False, fit_intercept=True,\n",
              "                   intercept_scaling=1, l1_ratio=None, max_iter=100,\n",
              "                   multi_class='auto', n_jobs=None, penalty='l2',\n",
              "                   random_state=None, solver='lbfgs', tol=0.0001, verbose=0,\n",
              "                   warm_start=False)"
            ]
          },
          "metadata": {},
          "execution_count": 48
        }
      ]
    },
    {
      "cell_type": "code",
      "metadata": {
        "id": "Qgwf82nahUUU",
        "colab": {
          "base_uri": "https://localhost:8080/"
        },
        "outputId": "3c9a8e65-d341-44fc-89c5-5d48bda80eed"
      },
      "source": [
        "y_predict = log_model.predict(x_test)\n",
        "y_predict"
      ],
      "execution_count": null,
      "outputs": [
        {
          "output_type": "execute_result",
          "data": {
            "text/plain": [
              "array([1, 1, 0, 0, 0, 1, 0, 0, 1, 0, 0, 0, 0, 0, 0, 1, 0, 1, 1, 1, 0, 1,\n",
              "       0, 1, 0, 0, 0, 0, 0, 1, 0, 0, 0, 0, 0, 0, 1, 0, 0, 1, 1, 1, 0, 0,\n",
              "       1, 0, 1, 0, 1, 0, 0, 0, 1, 0, 0, 1, 0, 0, 0, 0, 0, 0, 1, 1, 0, 0,\n",
              "       0, 0, 1, 0, 0, 0, 0, 0, 1, 0, 0, 1, 1, 1, 1, 0, 0, 0, 1, 0, 0, 0,\n",
              "       0, 0, 0, 0, 1, 0, 0, 1, 1, 1, 1, 0, 0, 1, 0, 1, 0, 1, 0, 0, 1, 1,\n",
              "       0, 1, 1, 0, 0, 0, 1, 0, 0, 1, 1, 1, 1, 1, 1, 1, 1, 0, 1, 0, 1, 1,\n",
              "       0, 1, 1, 0, 1, 0, 0, 1, 0, 1, 0, 0, 0, 1, 1, 0, 0, 0, 0, 1, 1, 0,\n",
              "       0, 0, 0, 0, 1, 0, 0, 0, 0, 1, 1, 0, 0, 1, 1, 1, 0, 0, 0, 1, 1, 1,\n",
              "       1, 0, 1])"
            ]
          },
          "metadata": {},
          "execution_count": 49
        }
      ]
    },
    {
      "cell_type": "code",
      "metadata": {
        "id": "lPv_h7UjhUUU",
        "colab": {
          "base_uri": "https://localhost:8080/"
        },
        "outputId": "f3760431-7145-4979-c685-4e7582a35185"
      },
      "source": [
        "acc_log = log_model.score(x_test,y_test)\n",
        "acc_log"
      ],
      "execution_count": null,
      "outputs": [
        {
          "output_type": "execute_result",
          "data": {
            "text/plain": [
              "0.7821229050279329"
            ]
          },
          "metadata": {},
          "execution_count": 50
        }
      ]
    },
    {
      "cell_type": "markdown",
      "metadata": {
        "id": "1oNCQnzehUUU"
      },
      "source": [
        "## Building SVM model"
      ]
    },
    {
      "cell_type": "markdown",
      "metadata": {
        "id": "oPagJKcPhUUU"
      },
      "source": [
        "### 1) RBF Kernel"
      ]
    },
    {
      "cell_type": "code",
      "metadata": {
        "id": "leVRkeeQhUUU",
        "colab": {
          "base_uri": "https://localhost:8080/"
        },
        "outputId": "3613f9a7-fd39-414f-8914-54bfea80ffb7"
      },
      "source": [
        "from sklearn.svm import SVC\n",
        "svc_rbf = SVC(kernel = 'rbf')\n",
        "svc_rbf.fit(x_train, y_train )"
      ],
      "execution_count": null,
      "outputs": [
        {
          "output_type": "execute_result",
          "data": {
            "text/plain": [
              "SVC(C=1.0, break_ties=False, cache_size=200, class_weight=None, coef0=0.0,\n",
              "    decision_function_shape='ovr', degree=3, gamma='scale', kernel='rbf',\n",
              "    max_iter=-1, probability=False, random_state=None, shrinking=True,\n",
              "    tol=0.001, verbose=False)"
            ]
          },
          "metadata": {},
          "execution_count": 51
        }
      ]
    },
    {
      "cell_type": "markdown",
      "metadata": {
        "id": "HLLYAGcXhUUV"
      },
      "source": [
        "**Predicting the value**"
      ]
    },
    {
      "cell_type": "code",
      "metadata": {
        "id": "_DnMrSTqhUUV",
        "colab": {
          "base_uri": "https://localhost:8080/"
        },
        "outputId": "5cd89d7d-a037-4e4f-ad4c-3aee3131bfdb"
      },
      "source": [
        "y_predict = svc_rbf.predict(x_test)\n",
        "y_predict"
      ],
      "execution_count": null,
      "outputs": [
        {
          "output_type": "execute_result",
          "data": {
            "text/plain": [
              "array([1, 1, 0, 0, 0, 0, 0, 0, 1, 0, 0, 0, 0, 0, 0, 1, 0, 1, 1, 1, 0, 1,\n",
              "       0, 1, 0, 0, 0, 0, 0, 0, 0, 0, 0, 0, 0, 0, 1, 0, 0, 0, 1, 1, 0, 0,\n",
              "       1, 0, 1, 0, 1, 1, 0, 0, 1, 1, 0, 1, 0, 0, 0, 0, 1, 1, 1, 1, 0, 1,\n",
              "       0, 0, 1, 0, 0, 0, 0, 0, 1, 0, 0, 1, 1, 0, 1, 0, 0, 0, 1, 0, 0, 0,\n",
              "       0, 0, 0, 0, 1, 0, 0, 1, 1, 1, 1, 0, 0, 1, 0, 1, 0, 1, 0, 0, 1, 1,\n",
              "       0, 1, 1, 0, 0, 0, 1, 0, 0, 1, 1, 0, 1, 1, 1, 1, 1, 0, 1, 0, 1, 1,\n",
              "       0, 1, 1, 0, 1, 1, 0, 1, 0, 0, 0, 0, 0, 1, 1, 0, 0, 0, 0, 1, 1, 0,\n",
              "       0, 0, 0, 0, 1, 0, 0, 0, 1, 1, 1, 0, 0, 0, 1, 1, 0, 0, 0, 1, 1, 1,\n",
              "       1, 0, 1])"
            ]
          },
          "metadata": {},
          "execution_count": 52
        }
      ]
    },
    {
      "cell_type": "code",
      "metadata": {
        "id": "52wv8HukhUUV",
        "colab": {
          "base_uri": "https://localhost:8080/"
        },
        "outputId": "7dc14a78-ae78-4bc0-e65e-f0949d803c69"
      },
      "source": [
        "#accuracy of the model\n",
        "acc_rbf = svc_rbf.score(x_test, y_test )\n",
        "acc_rbf"
      ],
      "execution_count": null,
      "outputs": [
        {
          "output_type": "execute_result",
          "data": {
            "text/plain": [
              "0.7821229050279329"
            ]
          },
          "metadata": {},
          "execution_count": 53
        }
      ]
    },
    {
      "cell_type": "markdown",
      "metadata": {
        "id": "HO6trI_ghUUV"
      },
      "source": [
        "###### The accuracy of the model is 83.24%"
      ]
    },
    {
      "cell_type": "markdown",
      "metadata": {
        "id": "Zsme6OG6hUUV"
      },
      "source": [
        "### 2) Linear Kernel"
      ]
    },
    {
      "cell_type": "code",
      "metadata": {
        "id": "-_qORx3IhUUW",
        "colab": {
          "base_uri": "https://localhost:8080/"
        },
        "outputId": "822f0ce9-ab12-4fa8-d9d4-af3b5e071df2"
      },
      "source": [
        "svc_linear = SVC(kernel = 'linear')\n",
        "svc_linear.fit(x_train, y_train )"
      ],
      "execution_count": null,
      "outputs": [
        {
          "output_type": "execute_result",
          "data": {
            "text/plain": [
              "SVC(C=1.0, break_ties=False, cache_size=200, class_weight=None, coef0=0.0,\n",
              "    decision_function_shape='ovr', degree=3, gamma='scale', kernel='linear',\n",
              "    max_iter=-1, probability=False, random_state=None, shrinking=True,\n",
              "    tol=0.001, verbose=False)"
            ]
          },
          "metadata": {},
          "execution_count": 54
        }
      ]
    },
    {
      "cell_type": "markdown",
      "metadata": {
        "id": "r_YF6gRXhUUW"
      },
      "source": [
        "**Predicting the value**"
      ]
    },
    {
      "cell_type": "code",
      "metadata": {
        "id": "WxNPyfgZhUUW",
        "colab": {
          "base_uri": "https://localhost:8080/"
        },
        "outputId": "e03c6766-7dc4-44f8-e551-9f8f0c27102d"
      },
      "source": [
        "y_predict = svc_linear.predict(x_test)\n",
        "y_predict"
      ],
      "execution_count": null,
      "outputs": [
        {
          "output_type": "execute_result",
          "data": {
            "text/plain": [
              "array([1, 1, 0, 0, 0, 0, 0, 0, 1, 0, 0, 0, 0, 0, 0, 1, 0, 1, 1, 1, 0, 1,\n",
              "       0, 1, 0, 0, 0, 0, 0, 0, 0, 0, 0, 0, 0, 0, 1, 0, 0, 0, 1, 1, 0, 0,\n",
              "       1, 0, 1, 0, 1, 0, 0, 0, 1, 1, 0, 1, 0, 0, 0, 0, 0, 0, 1, 1, 0, 1,\n",
              "       0, 0, 1, 0, 0, 0, 0, 0, 1, 0, 0, 1, 1, 0, 1, 0, 0, 0, 1, 1, 0, 0,\n",
              "       0, 0, 0, 0, 1, 0, 0, 1, 1, 1, 1, 0, 0, 1, 0, 1, 0, 1, 0, 0, 1, 1,\n",
              "       0, 1, 1, 0, 0, 0, 1, 0, 0, 1, 1, 1, 0, 1, 1, 1, 1, 0, 1, 0, 1, 1,\n",
              "       0, 1, 1, 0, 1, 0, 0, 1, 0, 0, 0, 0, 0, 1, 1, 0, 0, 0, 0, 1, 1, 0,\n",
              "       0, 0, 0, 1, 1, 0, 0, 0, 1, 1, 1, 0, 0, 0, 1, 1, 0, 0, 0, 1, 1, 1,\n",
              "       1, 0, 1])"
            ]
          },
          "metadata": {},
          "execution_count": 55
        }
      ]
    },
    {
      "cell_type": "code",
      "metadata": {
        "id": "plSdjnWOhUUW",
        "colab": {
          "base_uri": "https://localhost:8080/"
        },
        "outputId": "6e9fdcd9-7e33-485c-abd5-e60967c032a8"
      },
      "source": [
        "#accuracy of the model\n",
        "acc_linear = svc_linear.score(x_test, y_test )\n",
        "acc_linear"
      ],
      "execution_count": null,
      "outputs": [
        {
          "output_type": "execute_result",
          "data": {
            "text/plain": [
              "0.770949720670391"
            ]
          },
          "metadata": {},
          "execution_count": 56
        }
      ]
    },
    {
      "cell_type": "markdown",
      "metadata": {
        "id": "dao7rM1nhUUW"
      },
      "source": [
        "###### The accuracy of the model is 93.33%"
      ]
    },
    {
      "cell_type": "markdown",
      "metadata": {
        "id": "1i--_IANhUUW"
      },
      "source": [
        "### 3) Polynomial Kernel:"
      ]
    },
    {
      "cell_type": "code",
      "metadata": {
        "id": "EXPS-oIXhUUX",
        "colab": {
          "base_uri": "https://localhost:8080/"
        },
        "outputId": "e609fd6e-20ff-4e56-8d72-bb6202225811"
      },
      "source": [
        "svc_poly = SVC(kernel = 'poly',degree = 2)\n",
        "svc_poly.fit(x_train, y_train )"
      ],
      "execution_count": null,
      "outputs": [
        {
          "output_type": "execute_result",
          "data": {
            "text/plain": [
              "SVC(C=1.0, break_ties=False, cache_size=200, class_weight=None, coef0=0.0,\n",
              "    decision_function_shape='ovr', degree=2, gamma='scale', kernel='poly',\n",
              "    max_iter=-1, probability=False, random_state=None, shrinking=True,\n",
              "    tol=0.001, verbose=False)"
            ]
          },
          "metadata": {},
          "execution_count": 57
        }
      ]
    },
    {
      "cell_type": "code",
      "metadata": {
        "id": "EGL2uIOhhUUX",
        "colab": {
          "base_uri": "https://localhost:8080/"
        },
        "outputId": "4e863646-97b3-4a24-a4cf-98695b9eeba9"
      },
      "source": [
        "#predicting the value\n",
        "y_predict = svc_poly.predict(x_test)\n",
        "y_predict"
      ],
      "execution_count": null,
      "outputs": [
        {
          "output_type": "execute_result",
          "data": {
            "text/plain": [
              "array([1, 1, 0, 0, 0, 0, 0, 0, 1, 0, 0, 0, 0, 0, 0, 1, 0, 0, 1, 1, 0, 1,\n",
              "       0, 1, 0, 0, 0, 0, 0, 0, 0, 0, 0, 0, 0, 0, 1, 0, 0, 0, 0, 0, 0, 0,\n",
              "       1, 0, 0, 0, 1, 0, 0, 0, 0, 0, 0, 1, 0, 0, 0, 0, 0, 0, 1, 1, 0, 0,\n",
              "       0, 0, 1, 0, 0, 0, 0, 0, 0, 0, 0, 1, 0, 0, 1, 0, 0, 0, 1, 0, 0, 0,\n",
              "       0, 0, 0, 0, 1, 0, 0, 1, 1, 0, 1, 0, 0, 1, 0, 1, 0, 1, 0, 0, 1, 0,\n",
              "       0, 1, 0, 0, 0, 0, 1, 0, 0, 1, 1, 0, 0, 1, 1, 0, 1, 0, 1, 0, 1, 0,\n",
              "       0, 0, 1, 0, 0, 0, 0, 1, 0, 0, 0, 0, 0, 1, 1, 0, 0, 0, 0, 0, 1, 0,\n",
              "       0, 0, 0, 0, 0, 0, 0, 0, 0, 1, 1, 0, 0, 0, 0, 0, 0, 0, 0, 1, 1, 1,\n",
              "       1, 0, 1])"
            ]
          },
          "metadata": {},
          "execution_count": 58
        }
      ]
    },
    {
      "cell_type": "code",
      "metadata": {
        "id": "3BuTYjZQhUUX",
        "colab": {
          "base_uri": "https://localhost:8080/"
        },
        "outputId": "a8fb0a9a-e832-4f1f-fe8c-6c862e67190d"
      },
      "source": [
        "#accuracy of the model\n",
        "acc_poly = svc_poly.score(x_test, y_test )\n",
        "acc_poly"
      ],
      "execution_count": null,
      "outputs": [
        {
          "output_type": "execute_result",
          "data": {
            "text/plain": [
              "0.770949720670391"
            ]
          },
          "metadata": {},
          "execution_count": 59
        }
      ]
    },
    {
      "cell_type": "markdown",
      "metadata": {
        "id": "0Mwl_pGyhUUX"
      },
      "source": [
        "### 4) Sigmoid Kernel:"
      ]
    },
    {
      "cell_type": "code",
      "metadata": {
        "id": "SimSzKKBhUUZ",
        "colab": {
          "base_uri": "https://localhost:8080/"
        },
        "outputId": "cac18943-c815-4907-ca03-9fad62188af7"
      },
      "source": [
        "svc_sigmoid = SVC(kernel = 'sigmoid')\n",
        "svc_sigmoid.fit(x_train, y_train )"
      ],
      "execution_count": null,
      "outputs": [
        {
          "output_type": "execute_result",
          "data": {
            "text/plain": [
              "SVC(C=1.0, break_ties=False, cache_size=200, class_weight=None, coef0=0.0,\n",
              "    decision_function_shape='ovr', degree=3, gamma='scale', kernel='sigmoid',\n",
              "    max_iter=-1, probability=False, random_state=None, shrinking=True,\n",
              "    tol=0.001, verbose=False)"
            ]
          },
          "metadata": {},
          "execution_count": 60
        }
      ]
    },
    {
      "cell_type": "code",
      "metadata": {
        "id": "ay64jsDfhUUa",
        "colab": {
          "base_uri": "https://localhost:8080/"
        },
        "outputId": "bf8b8b0d-2a1a-4d8b-812b-33a47d87da02"
      },
      "source": [
        "#predicting the value\n",
        "y_predict = svc_sigmoid.predict(x_test)\n",
        "y_predict"
      ],
      "execution_count": null,
      "outputs": [
        {
          "output_type": "execute_result",
          "data": {
            "text/plain": [
              "array([0, 1, 0, 0, 1, 0, 0, 0, 0, 0, 0, 0, 0, 0, 0, 1, 0, 1, 1, 0, 0, 1,\n",
              "       0, 1, 0, 0, 0, 1, 0, 0, 1, 0, 0, 0, 0, 0, 0, 0, 0, 0, 1, 0, 0, 1,\n",
              "       1, 0, 1, 0, 1, 1, 0, 0, 1, 0, 0, 0, 0, 0, 0, 1, 0, 0, 1, 1, 0, 0,\n",
              "       1, 0, 0, 1, 0, 0, 1, 0, 0, 1, 0, 0, 1, 1, 0, 0, 0, 1, 1, 0, 0, 0,\n",
              "       0, 1, 1, 0, 0, 0, 0, 1, 0, 1, 1, 1, 0, 0, 0, 1, 1, 1, 0, 0, 0, 1,\n",
              "       0, 1, 0, 1, 0, 0, 0, 0, 0, 1, 1, 0, 0, 1, 1, 0, 1, 0, 1, 1, 0, 1,\n",
              "       0, 0, 1, 1, 1, 0, 0, 1, 0, 1, 0, 0, 0, 0, 0, 0, 0, 0, 1, 1, 0, 0,\n",
              "       1, 1, 0, 0, 0, 0, 0, 0, 0, 1, 1, 0, 0, 1, 1, 1, 0, 1, 0, 0, 1, 1,\n",
              "       0, 0, 1])"
            ]
          },
          "metadata": {},
          "execution_count": 61
        }
      ]
    },
    {
      "cell_type": "code",
      "metadata": {
        "id": "c7tCCOsVhUUa",
        "colab": {
          "base_uri": "https://localhost:8080/"
        },
        "outputId": "800c54d0-c633-4efb-9d9c-e1ad827632f1"
      },
      "source": [
        "#accuracy of the model\n",
        "acc_sigmoid = svc_sigmoid.score(x_test, y_test )\n",
        "acc_sigmoid"
      ],
      "execution_count": null,
      "outputs": [
        {
          "output_type": "execute_result",
          "data": {
            "text/plain": [
              "0.6815642458100558"
            ]
          },
          "metadata": {},
          "execution_count": 62
        }
      ]
    },
    {
      "cell_type": "markdown",
      "metadata": {
        "id": "PG0prHVvhUUb"
      },
      "source": [
        "## Comparison of different models"
      ]
    },
    {
      "cell_type": "code",
      "metadata": {
        "id": "5dUz8mGwhUUb"
      },
      "source": [
        "models = [('Linear Kernel',acc_linear),\n",
        "          ('Polynomial Kernel',acc_poly),\n",
        "          ('RBF Kernel',acc_rbf),\n",
        "          ('Sigmoid Kernel',acc_sigmoid),\n",
        "          ('Logistic Regression',acc_log)  \n",
        "         ]"
      ],
      "execution_count": null,
      "outputs": []
    },
    {
      "cell_type": "code",
      "metadata": {
        "id": "iCEf9qXKhUUb",
        "colab": {
          "base_uri": "https://localhost:8080/",
          "height": 203
        },
        "outputId": "966079bf-61ed-45e8-eead-241a7d9b5522"
      },
      "source": [
        "prediction_table = pd.DataFrame(data = models, columns=['Model', 'Accuracy'])\n",
        "prediction_table"
      ],
      "execution_count": null,
      "outputs": [
        {
          "output_type": "execute_result",
          "data": {
            "text/html": [
              "<div>\n",
              "<style scoped>\n",
              "    .dataframe tbody tr th:only-of-type {\n",
              "        vertical-align: middle;\n",
              "    }\n",
              "\n",
              "    .dataframe tbody tr th {\n",
              "        vertical-align: top;\n",
              "    }\n",
              "\n",
              "    .dataframe thead th {\n",
              "        text-align: right;\n",
              "    }\n",
              "</style>\n",
              "<table border=\"1\" class=\"dataframe\">\n",
              "  <thead>\n",
              "    <tr style=\"text-align: right;\">\n",
              "      <th></th>\n",
              "      <th>Model</th>\n",
              "      <th>Accuracy</th>\n",
              "    </tr>\n",
              "  </thead>\n",
              "  <tbody>\n",
              "    <tr>\n",
              "      <th>0</th>\n",
              "      <td>Linear Kernel</td>\n",
              "      <td>0.770950</td>\n",
              "    </tr>\n",
              "    <tr>\n",
              "      <th>1</th>\n",
              "      <td>Polynomial Kernel</td>\n",
              "      <td>0.770950</td>\n",
              "    </tr>\n",
              "    <tr>\n",
              "      <th>2</th>\n",
              "      <td>RBF Kernel</td>\n",
              "      <td>0.782123</td>\n",
              "    </tr>\n",
              "    <tr>\n",
              "      <th>3</th>\n",
              "      <td>Sigmoid Kernel</td>\n",
              "      <td>0.681564</td>\n",
              "    </tr>\n",
              "    <tr>\n",
              "      <th>4</th>\n",
              "      <td>Logistic Regression</td>\n",
              "      <td>0.782123</td>\n",
              "    </tr>\n",
              "  </tbody>\n",
              "</table>\n",
              "</div>"
            ],
            "text/plain": [
              "                 Model  Accuracy\n",
              "0        Linear Kernel  0.770950\n",
              "1    Polynomial Kernel  0.770950\n",
              "2           RBF Kernel  0.782123\n",
              "3       Sigmoid Kernel  0.681564\n",
              "4  Logistic Regression  0.782123"
            ]
          },
          "metadata": {},
          "execution_count": 64
        }
      ]
    },
    {
      "cell_type": "markdown",
      "metadata": {
        "id": "6PmiN8yMhUUb"
      },
      "source": [
        "###### The SVM model with RBF kernel has the high accuracy score of 77.65% among other models."
      ]
    },
    {
      "cell_type": "markdown",
      "metadata": {
        "id": "h3luD81PhUUb"
      },
      "source": [
        "## Performing Grid search technique to find the best parameter"
      ]
    },
    {
      "cell_type": "code",
      "metadata": {
        "id": "RnWO8_XihUUb"
      },
      "source": [
        "svm_model= SVC()\n",
        "tuned_parameters = [{\n",
        "  'C': [0.5,1,10,100] , 'kernel': ['linear']},\n",
        "  {'C': [0.5,1,10,100] , 'gamma': [0.001,0.0001,0.01,0.02,0.03,0.04,0.05], 'kernel': ['rbf']},\n",
        "  {'degree': [2,3,4] ,'gamma':[0.001,0.00010,.01,0.02,0.03,0.04,0.05], 'C':[0.5,1,10,100] , 'kernel':['poly']\n",
        "                   }]"
      ],
      "execution_count": null,
      "outputs": []
    },
    {
      "cell_type": "code",
      "metadata": {
        "id": "Am5Pauw1hUUc"
      },
      "source": [
        "from sklearn.model_selection import GridSearchCV\n",
        "model_svm = GridSearchCV(svm_model, tuned_parameters,cv=10,scoring='accuracy')"
      ],
      "execution_count": null,
      "outputs": []
    },
    {
      "cell_type": "code",
      "metadata": {
        "id": "sDNrjKzZhUUc",
        "colab": {
          "base_uri": "https://localhost:8080/"
        },
        "outputId": "dc4c1be9-48a3-4863-f332-08b3be182894"
      },
      "source": [
        "model_svm.fit(x_train, y_train)\n",
        "print(model_svm.best_score_)"
      ],
      "execution_count": null,
      "outputs": [
        {
          "output_type": "stream",
          "name": "stdout",
          "text": [
            "0.8370305164319249\n"
          ]
        }
      ]
    },
    {
      "cell_type": "code",
      "metadata": {
        "id": "VFxJd-0ihUUc",
        "colab": {
          "base_uri": "https://localhost:8080/"
        },
        "outputId": "a18a7c5c-6f9d-4abc-e931-02f76667086d"
      },
      "source": [
        "print(model_svm.best_params_)"
      ],
      "execution_count": null,
      "outputs": [
        {
          "output_type": "stream",
          "name": "stdout",
          "text": [
            "{'C': 10, 'gamma': 0.05, 'kernel': 'rbf'}\n"
          ]
        }
      ]
    },
    {
      "cell_type": "markdown",
      "metadata": {
        "id": "WVTSr17ChUUc"
      },
      "source": [
        "##  Final SVM model"
      ]
    },
    {
      "cell_type": "code",
      "metadata": {
        "id": "GBekJR2ShUUc",
        "colab": {
          "base_uri": "https://localhost:8080/"
        },
        "outputId": "1cabfd22-8475-439a-9638-a9804026015e"
      },
      "source": [
        "from sklearn.metrics import accuracy_score\n",
        "model = SVC(kernel = 'rbf', C= 10 , gamma = 0.05)\n",
        "model.fit(x_train, y_train )\n",
        "y_predict = model.predict(x_test)\n",
        "accuracy_score(y_predict,y_test)"
      ],
      "execution_count": null,
      "outputs": [
        {
          "output_type": "execute_result",
          "data": {
            "text/plain": [
              "0.7988826815642458"
            ]
          },
          "metadata": {},
          "execution_count": 69
        }
      ]
    },
    {
      "cell_type": "markdown",
      "metadata": {
        "id": "k_yAAGkmhUUc"
      },
      "source": [
        "###### The accuracy of the SVM with RBF kernemodel is 78.21%"
      ]
    },
    {
      "cell_type": "markdown",
      "metadata": {
        "id": "jIX2dMyIhUUd"
      },
      "source": [
        "## Evaluating the model\n",
        "### Classification report "
      ]
    },
    {
      "cell_type": "code",
      "metadata": {
        "id": "LXy7WqcIhUUd",
        "colab": {
          "base_uri": "https://localhost:8080/"
        },
        "outputId": "8d31c4c4-bff0-4bd5-de7e-e76ece7cc220"
      },
      "source": [
        "from sklearn.metrics import classification_report\n",
        "print(classification_report(y_test, y_predict))"
      ],
      "execution_count": null,
      "outputs": [
        {
          "output_type": "stream",
          "name": "stdout",
          "text": [
            "              precision    recall  f1-score   support\n",
            "\n",
            "           0       0.79      0.86      0.83        99\n",
            "           1       0.81      0.72      0.76        80\n",
            "\n",
            "    accuracy                           0.80       179\n",
            "   macro avg       0.80      0.79      0.79       179\n",
            "weighted avg       0.80      0.80      0.80       179\n",
            "\n"
          ]
        }
      ]
    },
    {
      "cell_type": "markdown",
      "metadata": {
        "id": "MYmh08zxhUUd"
      },
      "source": [
        "**Inferences from the above report:**\n",
        "###### Recall specifies how much we predicted correctly. The recall value for class 0 is 0.80, and for class 1 is 0.76\n",
        "###### Precision specifies out of all the correct predictions, how many are actually correct. The precison value for class 0 is 0.82, and for class 1 is 0.73\n",
        "###### Higher the F1 score the better with 0.81 for class 0, and 0.74 for class 1."
      ]
    },
    {
      "cell_type": "markdown",
      "metadata": {
        "id": "nxj3kAJphUUe"
      },
      "source": [
        "## Confusion Matrix"
      ]
    },
    {
      "cell_type": "code",
      "metadata": {
        "id": "CS10tNJXhUUe",
        "colab": {
          "base_uri": "https://localhost:8080/"
        },
        "outputId": "48c5a0b3-4ddd-41c2-96a3-6ddbc008a192"
      },
      "source": [
        "from sklearn.metrics import confusion_matrix\n",
        "confusionMatrix = confusion_matrix(y_test,y_predict)\n",
        "confusionMatrix"
      ],
      "execution_count": null,
      "outputs": [
        {
          "output_type": "execute_result",
          "data": {
            "text/plain": [
              "array([[85, 14],\n",
              "       [22, 58]])"
            ]
          },
          "metadata": {},
          "execution_count": 71
        }
      ]
    },
    {
      "cell_type": "code",
      "metadata": {
        "id": "kKq7JEAIhUUf",
        "colab": {
          "base_uri": "https://localhost:8080/",
          "height": 462
        },
        "outputId": "ada6215f-72ce-44cb-dd70-f0e16f8176c9"
      },
      "source": [
        "plt.figure(figsize = (10,7))\n",
        "sns.heatmap(confusionMatrix, annot = True)\n",
        "plt.xlabel(\"Predicted\")\n",
        "plt.ylabel(\"Truth\")"
      ],
      "execution_count": null,
      "outputs": [
        {
          "output_type": "execute_result",
          "data": {
            "text/plain": [
              "Text(69.0, 0.5, 'Truth')"
            ]
          },
          "metadata": {},
          "execution_count": 72
        },
        {
          "output_type": "display_data",
          "data": {
            "image/png": "[encoded data removed]",
            "text/plain": [
              "<Figure size 720x504 with 2 Axes>"
            ]
          },
          "metadata": {}
        }
      ]
    },
    {
      "cell_type": "markdown",
      "metadata": {
        "id": "5Z3GpfuahUUf"
      },
      "source": [
        "###### In the confusion matrix, we see that of the 105 passengers who did not survive, 84 (80%) were correctly classified. And of the 74 passengers who survived, 56 (75.68%) were correctly classified.  "
      ]
    },
    {
      "cell_type": "markdown",
      "metadata": {
        "id": "w_ULApONhUUf"
      },
      "source": [
        "## Hypothesis Testing"
      ]
    },
    {
      "cell_type": "markdown",
      "metadata": {
        "id": "gMePV8CChUUf"
      },
      "source": [
        "### Null Hypothesis (Ho): Both the models perform same on the dataset\n",
        "### Alternate Hypothesis (Ha): Both the models does not perform same on the dataset"
      ]
    },
    {
      "cell_type": "code",
      "metadata": {
        "id": "t0RmkC3ghUUg",
        "colab": {
          "base_uri": "https://localhost:8080/"
        },
        "outputId": "5c164ec0-1173-4042-e41e-10d7e2a8561c"
      },
      "source": [
        "from mlxtend.evaluate import paired_ttest_5x2cv\n",
        "t_statistic,pvalue = paired_ttest_5x2cv(estimator1 = LogisticRegression(),\n",
        "                                        estimator2 = SVC(kernel = 'rbf', C= 100 , gamma = 0.02),\n",
        "                                        X=X, \n",
        "                                        y=Y,\n",
        "                                        scoring ='accuracy',\n",
        "                                        random_seed=1\n",
        "                                       )\n",
        "print('P-value is: {:.3f}'.format(pvalue))\n",
        "print('T statistic is: {:.3f}'.format(t_statistic))"
      ],
      "execution_count": null,
      "outputs": [
        {
          "output_type": "stream",
          "name": "stdout",
          "text": [
            "P-value is: 0.021\n",
            "T statistic is: 3.306\n"
          ]
        }
      ]
    },
    {
      "cell_type": "code",
      "metadata": {
        "id": "CcrVjxEzhUUg",
        "colab": {
          "base_uri": "https://localhost:8080/"
        },
        "outputId": "522d652a-a5f6-4d05-fcb6-21af3ab5e1e9"
      },
      "source": [
        "# interpret the result\n",
        "if pvalue <= 0.05:\n",
        "    print('Since pvalue<0.05, we can reject the null-hypothesis that both models perform equally well on this dataset.We may conclude that two algorithms are significantly different.')\n",
        "else:\n",
        "    print('Since pvaluep>0.05, we cannot reject the null hypothesis and may conclude that the performance of the two algorithms is not significantly different.')"
      ],
      "execution_count": null,
      "outputs": [
        {
          "output_type": "stream",
          "name": "stdout",
          "text": [
            "Since pvalue<0.05, we can reject the null-hypothesis that both models perform equally well on this dataset.We may conclude that two algorithms are significantly different.\n"
          ]
        }
      ]
    },
    {
      "cell_type": "markdown",
      "metadata": {
        "id": "RuEX0UAFhUUh"
      },
      "source": [
        "######  Thus, the SVM model with RBF Kernel perform better than the Logistic Regression Model with an accuracy of 78.21% "
      ]
    },
    {
      "cell_type": "markdown",
      "metadata": {
        "id": "gu2W-Wl9hUUh"
      },
      "source": [
        "## Testing the Model\n",
        "\n",
        "### So given the input observations of a passenger below, can you predict if the passenger will survive?"
      ]
    },
    {
      "cell_type": "markdown",
      "metadata": {
        "id": "dhZONQa8hUUh"
      },
      "source": [
        "### Passenger 1"
      ]
    },
    {
      "cell_type": "code",
      "metadata": {
        "id": "Yr4YdZWnhUUh",
        "colab": {
          "base_uri": "https://localhost:8080/"
        },
        "outputId": "59a98252-bce5-4b63-aa17-1b2d3c5e7877"
      },
      "source": [
        "import random \n",
        "random.seed(7887)\n",
        "random_ind = random.randint(0,len(df))\n",
        "\n",
        "survival = df.drop(['Survived','PassengerId','Name','Ticket','Cabin'], axis=1).iloc[random_ind]\n",
        "\n",
        "survival"
      ],
      "execution_count": null,
      "outputs": [
        {
          "output_type": "execute_result",
          "data": {
            "text/plain": [
              "Pclass       3.0000\n",
              "Sex          1.0000\n",
              "Age         36.0000\n",
              "SibSp        0.0000\n",
              "Parch        0.0000\n",
              "Fare         7.4958\n",
              "Embarked     2.0000\n",
              "Name: 663, dtype: float64"
            ]
          },
          "metadata": {},
          "execution_count": 75
        }
      ]
    },
    {
      "cell_type": "code",
      "metadata": {
        "id": "_n1SNHoshUUh",
        "colab": {
          "base_uri": "https://localhost:8080/"
        },
        "outputId": "61adb02e-7116-4eef-bc5f-43d762609b84"
      },
      "source": [
        "x_train.shape"
      ],
      "execution_count": null,
      "outputs": [
        {
          "output_type": "execute_result",
          "data": {
            "text/plain": [
              "(712, 7)"
            ]
          },
          "metadata": {},
          "execution_count": 76
        }
      ]
    },
    {
      "cell_type": "code",
      "metadata": {
        "id": "0bSkRIBqhUUh",
        "colab": {
          "base_uri": "https://localhost:8080/"
        },
        "outputId": "a5892df3-e632-436d-b706-9987fd7f07cc"
      },
      "source": [
        "survival = survival.values.reshape(1, 7)\n",
        "scaled_data=scaler.transform(survival)\n",
        "scaled_data "
      ],
      "execution_count": null,
      "outputs": [
        {
          "output_type": "execute_result",
          "data": {
            "text/plain": [
              "array([[ 0.        ,  0.        ,  0.66666667,  0.        ,  0.        ,\n",
              "        -0.30225457,  0.        ]])"
            ]
          },
          "metadata": {},
          "execution_count": 77
        }
      ]
    },
    {
      "cell_type": "markdown",
      "metadata": {
        "id": "MVsF-rm6hUUi"
      },
      "source": [
        "### SVM model with RBF Kernel prediction on this randomly selected data"
      ]
    },
    {
      "cell_type": "code",
      "metadata": {
        "id": "PONgyJn7hUUi",
        "colab": {
          "base_uri": "https://localhost:8080/"
        },
        "outputId": "ad52e6aa-28f5-41f7-b524-b1e190aa1e75"
      },
      "source": [
        "svc_rbf.predict(scaled_data)[0]"
      ],
      "execution_count": null,
      "outputs": [
        {
          "output_type": "execute_result",
          "data": {
            "text/plain": [
              "0"
            ]
          },
          "metadata": {},
          "execution_count": 78
        }
      ]
    },
    {
      "cell_type": "markdown",
      "metadata": {
        "id": "s2yrqUMxhUUi"
      },
      "source": [
        "### Actual value of that randomly selected data"
      ]
    },
    {
      "cell_type": "code",
      "metadata": {
        "id": "8aatD-wVhUUi",
        "colab": {
          "base_uri": "https://localhost:8080/"
        },
        "outputId": "b667ddc1-5efc-4d04-97dd-9e077f0f37a7"
      },
      "source": [
        "df.iloc[random_ind]['Survived']"
      ],
      "execution_count": null,
      "outputs": [
        {
          "output_type": "execute_result",
          "data": {
            "text/plain": [
              "0"
            ]
          },
          "metadata": {},
          "execution_count": 79
        }
      ]
    },
    {
      "cell_type": "markdown",
      "metadata": {
        "id": "Vxy1EZTshUUi"
      },
      "source": [
        "###### A female passenger traveling in the passenger class 3 did not survive the disaster."
      ]
    },
    {
      "cell_type": "markdown",
      "metadata": {
        "id": "tj2yJUFmhUUi"
      },
      "source": [
        "### Passenger 2"
      ]
    },
    {
      "cell_type": "code",
      "metadata": {
        "id": "Z2r19rRJhUUj",
        "colab": {
          "base_uri": "https://localhost:8080/"
        },
        "outputId": "70afe56c-b427-4b0f-8871-f49e88a30c94"
      },
      "source": [
        "import random \n",
        "random.seed(19999)\n",
        "random_ind = random.randint(0,len(df))\n",
        "\n",
        "survival = df.drop(['Survived','PassengerId','Name','Ticket','Cabin'], axis=1).iloc[random_ind]\n",
        "\n",
        "survival"
      ],
      "execution_count": null,
      "outputs": [
        {
          "output_type": "execute_result",
          "data": {
            "text/plain": [
              "Pclass       2.0\n",
              "Sex          0.0\n",
              "Age         18.0\n",
              "SibSp        0.0\n",
              "Parch        2.0\n",
              "Fare        13.0\n",
              "Embarked     2.0\n",
              "Name: 417, dtype: float64"
            ]
          },
          "metadata": {},
          "execution_count": 80
        }
      ]
    },
    {
      "cell_type": "code",
      "metadata": {
        "id": "9zPWIuiIhUUj",
        "colab": {
          "base_uri": "https://localhost:8080/"
        },
        "outputId": "c1c6f8f9-e166-4bcd-a921-547859d4799b"
      },
      "source": [
        "survival = survival.values.reshape(1, 7)\n",
        "scaled_data=scaler.transform(survival)\n",
        "scaled_data "
      ],
      "execution_count": null,
      "outputs": [
        {
          "output_type": "execute_result",
          "data": {
            "text/plain": [
              "array([[-1.        , -1.        , -0.83333333,  0.        ,  2.        ,\n",
              "        -0.06402083,  0.        ]])"
            ]
          },
          "metadata": {},
          "execution_count": 81
        }
      ]
    },
    {
      "cell_type": "markdown",
      "metadata": {
        "id": "SEhI9SxyhUUj"
      },
      "source": [
        "### SVM model with RBF Kernel prediction on this randomly selected data"
      ]
    },
    {
      "cell_type": "code",
      "metadata": {
        "id": "6za8_6e7hUUj",
        "colab": {
          "base_uri": "https://localhost:8080/"
        },
        "outputId": "594c61f2-7fc3-4021-fe08-376195652e92"
      },
      "source": [
        "svc_rbf.predict(scaled_data)[0]"
      ],
      "execution_count": null,
      "outputs": [
        {
          "output_type": "execute_result",
          "data": {
            "text/plain": [
              "1"
            ]
          },
          "metadata": {},
          "execution_count": 82
        }
      ]
    },
    {
      "cell_type": "markdown",
      "metadata": {
        "id": "MOoXLAj_hUUj"
      },
      "source": [
        "### Actual value of that randomly selected data"
      ]
    },
    {
      "cell_type": "code",
      "metadata": {
        "id": "9mkANMLshUUj",
        "colab": {
          "base_uri": "https://localhost:8080/"
        },
        "outputId": "be3596f7-d4ed-4ef5-894d-6323bfe72c0b"
      },
      "source": [
        "df.iloc[random_ind]['Survived']"
      ],
      "execution_count": null,
      "outputs": [
        {
          "output_type": "execute_result",
          "data": {
            "text/plain": [
              "1"
            ]
          },
          "metadata": {},
          "execution_count": 83
        }
      ]
    },
    {
      "cell_type": "markdown",
      "metadata": {
        "id": "ZDZCyVrEhUUk"
      },
      "source": [
        "###### A male passenger traveling with a parent in passenger class 2 survived the disaster."
      ]
    },
    {
      "cell_type": "markdown",
      "metadata": {
        "id": "WezGxxX3hUUk"
      },
      "source": [
        "----\n",
        "## Conclusion\n",
        "#### We have implemented the SVM model (RBF kernel) for classification with python. \n",
        "#### From the above model, we can infer the below conclusions:\n",
        "#### 1. Among the travellers, female and the passengers from pclass1 (passenger class 1) and pclass2 (passenger class 2) had a better chance of survival.\n",
        "#### 2. Considering the group of men and children, men had the least survival chance, but a chid of gender 'Male' had a higher probability of surviving."
      ]
    }
  ]
}
